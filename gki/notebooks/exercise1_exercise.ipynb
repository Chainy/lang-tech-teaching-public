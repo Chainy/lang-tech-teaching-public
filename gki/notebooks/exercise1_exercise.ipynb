{
 "cells": [
  {
   "cell_type": "code",
   "execution_count": 1,
   "metadata": {
    "hide_input": true
   },
   "outputs": [
    {
     "data": {
      "text/html": [
       "<style>/* Style des gesamten Dokuments */\n",
       "#notebook-container {\n",
       "\tfont-family: \"NimbusMonL-ReguObli\";\n",
       "\tfont-size: 120%\n",
       "}\n",
       "\n",
       "/* Style fÃ¼r die Ãœberschrift: Zentriert diese und stellt sie fett dar. */\n",
       ".headline {\n",
       "\ttext-align: center;\n",
       "\tfont-weight: bold;\n",
       "\tfont-size: 185.7%\n",
       "}\n",
       "\n",
       "/* Style fÃ¼r die Aufgabenbeschreibung. Z.B.: \"Ãœbung zum Thema...\" */\n",
       ".description {\n",
       "\ttext-align: center;\n",
       "\tfont-size: 145.7%\n",
       "}\n",
       "\n",
       "/* Hebt das Abgabedatum fett und kursiv hervor */\n",
       "#submission {\n",
       "\tfont-weight: bold;\n",
       "}\n",
       "\n",
       "/* Style fÃ¼r das eigentliche Thema. Z.B.: \"Intelligenz\" */\n",
       "#topic {\n",
       "\tfont-style: italic;\n",
       "}\n",
       "\n",
       ".task_description {\n",
       "\n",
       "}\n",
       "\n",
       "/* Hebt die Aufgabennummerierung fett hervor. */\n",
       ".task {\n",
       "\tfont-style: normal;\n",
       "\tfont-weight: bold;\n",
       "}\n",
       "\n",
       ".points {\n",
       "\tfont-style: italic;\n",
       "}\n",
       "\n",
       "/* Style einer Code-Cell */\n",
       ".CodeMirror-code {\n",
       "\tbackground-color: #ededed\n",
       "}\n",
       "\n",
       "/* Style eines Kommentars im Code Ã¤ndern. */\n",
       ".cm-s-ipython span.cm-comment {\n",
       "\n",
       "}\n",
       "\n",
       ".cm-s-ipython span.cm-atom {\n",
       "\n",
       "}\n",
       "\n",
       ".cm-s-ipython span.cm-number {\n",
       "\n",
       "}\n",
       "\n",
       "/* Style eines Python-Keywords Ã¤ndern */\n",
       ".cm-s-ipython span.cm-keyword {\n",
       "\tcolor: #B000B0\n",
       "}\n",
       "\n",
       ".cm-s-ipython span.cm-def {\n",
       "\n",
       "}\n",
       "\n",
       "/* Style einer Python-Variable Ã¤ndern */\n",
       ".cm-s-ipython span.cm-variable {\n",
       "\t\n",
       "}\n",
       "\n",
       "/* Style einer Property Ã¤ndern */\n",
       ".cm-s-ipython span.cm-property {\n",
       "\t\n",
       "}\n",
       "\n",
       "/* Style eines Python-Operators Ã¤ndern */\n",
       ".cm-s-ipython span.cm-operator {\n",
       "\t\n",
       "}\n",
       "\n",
       "/* Style eines Python-Strings Ã¤ndern */\n",
       ".cm-s-ipython span.cm-string {\n",
       "\tcolor: brown;\n",
       "}\n",
       "\n",
       "/* Style einer eingebauten Funktion Ã¤ndern (z.B. \"open\") */\n",
       ".cm-s-ipython span.cm-builtin {\n",
       "\t\n",
       "}\n",
       "\n",
       "/* Hebt hervor, welche Klammern zueinander passen */\n",
       ".cm-s-ipython .CodeMirror-matchingbracket {\n",
       "\t\n",
       "}\n",
       "\n",
       ".cm-s-ipython span.cm-variable-2 {\n",
       "\n",
       "}</style>"
      ],
      "text/plain": [
       "<IPython.core.display.HTML object>"
      ]
     },
     "execution_count": 1,
     "metadata": {},
     "output_type": "execute_result"
    }
   ],
   "source": [
    "# style the notebook\n",
    "from IPython.core.display import HTML\n",
    "\n",
    "HTML(\"<style>\" + open(\"style.css\").read() + \"</style>\")"
   ]
  },
  {
   "cell_type": "markdown",
   "metadata": {
    "name": "hallo"
   },
   "source": [
    "<div class=\"headline\">\n",
    "Grundlagen künstlicher Intelligenz\n",
    "<br><br>\n",
    "Sommersemester 2021\n",
    "</div>\n",
    "<br>\n",
    "<div class=\"description\">\n",
    "    Übung zum Thema <i id=\"topic\">\"Intelligenz\"</i>\n",
    "    <br><br>\n",
    "    Deadline Abgabe: <i #id=\"submission\">Freitag, 07.05.2021 (23:55 Uhr)</i>\n",
    "</div>"
   ]
  },
  {
   "cell_type": "markdown",
   "metadata": {},
   "source": [
    "## Präsenzübung"
   ]
  },
  {
   "cell_type": "markdown",
   "metadata": {
    "collapsed": true
   },
   "source": [
    "<div class=\"task_description\">\n",
    "    <i style=\"text-align:left;\" class=\"task\">\n",
    "        Task 1.1:\n",
    "        <span style=\"float:right;color:lightblue\">\n",
    "            (optional)\n",
    "        </span>\n",
    "    </i>\n",
    "\n",
    "Geben Sie ein Beispiel dafür, dass eine Gruppe von Individuen intelligenter agieren kann als es die Intelligenz der einzelnen Individuen vermuten lässt.\n",
    "</div>"
   ]
  },
  {
   "cell_type": "markdown",
   "metadata": {},
   "source": [
    "*Give an example of how a group of individuals can act more intelligent than the intelligence of each individual suggests.*"
   ]
  },
  {
   "cell_type": "markdown",
   "metadata": {
    "solution": "hidden",
    "solution_first": true
   },
   "source": [
    "---\n",
    "<div class=\"task_description\">\n",
    "    <i style=\"text-align:left;\" class=\"task\">\n",
    "        Task 1.2:\n",
    "        <span style=\"float:right;color:lightblue\">\n",
    "            (optional)\n",
    "        </span>\n",
    "    </i>\n",
    "    \n",
    "Treffen die folgenden Aussagen zu? Begründen Sie Ihre Antwort. \n",
    "\n",
    "* \"Natürlich können Computer nicht intelligent sein. Sie tun genau das, was ihnen ihre Programmierer befehlen.\"\n",
    "* \"Natürlich können Tiere nicht intelligent sein. Sie tun genau das, was ihnen ihre Gene befehlen.\"\n",
    "* \"Natürlich können weder Menschen, noch Tiere oder Computer intelligent sein: sie bestehen aus Atomen, die den Gesetzen der Physik unterworfen sind.\"\n",
    "</div>"
   ]
  },
  {
   "cell_type": "markdown",
   "metadata": {},
   "source": [
    "*Do the following statements apply? Justify your answer.<br>*\n",
    "* \"*Of course computers cannot be intelligent. They do exactly what their programmers command.*\"<br>\n",
    "* \"*Of course animals cannot be intelligent, They do exactly what their genes order.*\"<br>\n",
    "* \"*Of course neither humans, animals or computers can be intelligent: they consist of atoms that are subject to the laws of physics*\"<br>"
   ]
  },
  {
   "cell_type": "markdown",
   "metadata": {},
   "source": [
    "<div class=\"task_description\">\n",
    "    <i class=\"task\">Task 2.1:</i>\n",
    "\n",
    "Sehen Sie sich den Regular Expression Tester an.\n",
    "Dort sehen Sie Beispiele dafür, wie man reguläre Ausdrücke in Python nutzen kann. Gehen Sie die Beispiele Schritt\n",
    "für Schritt durch und fragen Sie Ihren Tutor, wenn Ihnen etwas nicht klar ist. <br> Versuchen Sie nun einzelne Anweisungen zu ändern. Was passiert beispielsweise wenn Sie ```[a-z]``` mit dem Wildcard-Symbol ```.``` ersetzen? Was passiert, wenn Sie ein Fragezeichen zum Ausdruck hinzufügen: ```[a-z]*?``` ?\n",
    "</div>"
   ]
  },
  {
   "cell_type": "markdown",
   "metadata": {},
   "source": [
    "*Take a look at the Regular Expression Tester. There you will find examples of how to use regular expressions in Python. Go through the examples step by step and ask your tutor if something is not clear to you. <br>Now try to change individual commands. For example: what happens when you replace ```[a-z]``` with the wildcard symbol ```.``` ? What happens when you add a question mark to the expression:* ```[a-z]*?``` ?"
   ]
  },
  {
   "cell_type": "markdown",
   "metadata": {},
   "source": [
    "#### Step 0: Modify the regular expression and the test string"
   ]
  },
  {
   "cell_type": "code",
   "execution_count": 2,
   "metadata": {},
   "outputs": [],
   "source": [
    "import re\n",
    "\n",
    "# Modify the regular expression\n",
    "expression = \"I feel [a-z]*\"\n",
    "\n",
    "#Modify the test string\n",
    "test = \"I feel sad and I feel lonely.\""
   ]
  },
  {
   "cell_type": "markdown",
   "metadata": {},
   "source": [
    "#### Step 1: Check for match"
   ]
  },
  {
   "cell_type": "code",
   "execution_count": 3,
   "metadata": {},
   "outputs": [
    {
     "name": "stdout",
     "output_type": "stream",
     "text": [
      "String: I feel sad and I feel lonely.\n",
      "Expression: I feel [a-z]*\n",
      "Treffer\n",
      "Does the expression match some part of the String starting at the beginning? True\n"
     ]
    }
   ],
   "source": [
    "print(\"String:\", test)\n",
    "print(\"Expression:\", expression)\n",
    "\n",
    "# First option: Just use the function. \n",
    "testMatch = re.match(expression, test)\n",
    "\n",
    "if testMatch: print(\"Treffer\")\n",
    "print(\"Does the expression match some part of the String starting at the beginning?\", bool(testMatch))"
   ]
  },
  {
   "cell_type": "markdown",
   "metadata": {},
   "source": [
    "#### Step 2: Get all partial matches"
   ]
  },
  {
   "cell_type": "code",
   "execution_count": 4,
   "metadata": {},
   "outputs": [
    {
     "name": "stdout",
     "output_type": "stream",
     "text": [
      "Match 0: I feel sad\n",
      "Match 1: I feel lonely\n"
     ]
    }
   ],
   "source": [
    "# Second option: Compile a pattern and use its methods. E.g. \"findall\".\n",
    "pattern = re.compile(expression)\n",
    "matcher = pattern.findall(test)\n",
    "\n",
    "for idx, element in enumerate(matcher):\n",
    "    print('Match {}: {}'.format(str(idx), element))"
   ]
  },
  {
   "cell_type": "markdown",
   "metadata": {},
   "source": [
    "#### Step 3: Define different groups for your match"
   ]
  },
  {
   "cell_type": "code",
   "execution_count": 5,
   "metadata": {},
   "outputs": [
    {
     "name": "stdout",
     "output_type": "stream",
     "text": [
      "I feel sad and I feel lonely.\n",
      "\n",
      "phrase: I feel sad\n",
      "who: I\n",
      "feeling: sad\n",
      "\n",
      "phrase: I feel lonely\n",
      "who: I\n",
      "feeling: lonely\n",
      "\n"
     ]
    }
   ],
   "source": [
    "text = \"I feel sad and I feel lonely.\"\n",
    "print(text)\n",
    "print()\n",
    "\n",
    "for m in re.finditer(r\"(I) feel ([a-z]*)\", text):\n",
    "    print(\"phrase: \" + m.group(0))\n",
    "    print(\"who: \" + m.group(1))\n",
    "    print(\"feeling: \" + m.group(2))\n",
    "    print()"
   ]
  },
  {
   "cell_type": "markdown",
   "metadata": {},
   "source": [
    "#### Step 4: Modify the string"
   ]
  },
  {
   "cell_type": "code",
   "execution_count": 6,
   "metadata": {},
   "outputs": [
    {
     "name": "stdout",
     "output_type": "stream",
     "text": [
      "Your modified String: I feel very happy and I feel lonely.\n",
      "After the second modification: I feel very happy because you feel lonely.\n"
     ]
    }
   ],
   "source": [
    "matcher = re.compile(\"(I) feel ([a-z]*)\").search(test)\n",
    "\n",
    "#replace the second group of the first match with \"very happy\"\n",
    "toBeReplaced = str(matcher.group(2))\n",
    "replacement = \"very happy\"\n",
    "modifiedString = test.replace(toBeReplaced, replacement)\n",
    "print(\"Your modified String: \" + modifiedString)\n",
    "\n",
    "#You can also do string replacement directly without a matcher\n",
    "toBeReplaced2 = \"and I\"\n",
    "secondReplacement = \"because you\"\n",
    "secondModification = modifiedString.replace(toBeReplaced2, secondReplacement)\n",
    "print(\"After the second modification:\", secondModification)"
   ]
  },
  {
   "cell_type": "markdown",
   "metadata": {},
   "source": [
    "#### Step 5: Greedy vs. Lazy\n",
    "\n",
    "Regular Expressions können'greedy' und 'lazy' ausgeführt werden. Dieses beeinflusst stark, was gefunden wird. Matchen Sie die Wörter, die durch ```<begin>``` und ```<end>``` eingeschlossen werden. \n",
    "Wenn Sie 'greedy' verwenden, werden Sie nur einen Match finden, das erste ```<begin>``` und das **letzte** ```<end>```. Wenn Sie mit 'greedy' arbeiten, bedeutet ```[.*]```, dass der gesamte Text bis zu dessen Ende gelesen wird, und die Sequenz dann, beginnend vom Ende des Strings, zurückverfolgt wird, bis ein ```<end>``` gefunden wird.\n",
    "In anderen Worten sieht die Regular Expression nie das ```<end>``` hinter \"Duisburg\", sondern nur jenes hinter \"Hamburg\", welches in diesem Fall zu einem falschen Ergebnis führt."
   ]
  },
  {
   "cell_type": "markdown",
   "metadata": {},
   "source": [
    "*Regular expressions can be executed in a greedy and lazy fashion, which influences greatly what is found.\n",
    "Match the words enclosed by ```<begin>``` and ```<end>```.\n",
    "The greedy way finds only one match, the first ```<begin>``` and the the **last** ```<end>```. \n",
    "*When working greedily, the* ```[.*]``` *means that the full text is read until its end and then beginning from the end of the string the sequence is backtracked until a matching ```<end>``` is found. In other words, the regular expression never sees the ```<end>``` behind \"Duisburg\" but only behind \"Hamburg\", which leads in this case to an incorrect result.*"
   ]
  },
  {
   "cell_type": "code",
   "execution_count": 7,
   "metadata": {},
   "outputs": [
    {
     "name": "stdout",
     "output_type": "stream",
     "text": [
      "Original text: I am sad because I have to move from <begin>Duisburg<end> to rainy <begin>Hamburg<end> next week.\n",
      "Greedy match: <begin>Duisburg<end> to rainy <begin>Hamburg<end>\n",
      "Lazy match: <begin>Duisburg<end>\n",
      "Lazy match: <begin>Hamburg<end>\n"
     ]
    }
   ],
   "source": [
    "text = \"I am sad because I have to move from <begin>Duisburg<end> to rainy <begin>Hamburg<end> next week.\"\n",
    "print(\"Original text: \" + text)\n",
    "\n",
    "for m in re.finditer(r\"<begin>.*<end>\", text):\n",
    "    print(\"Greedy match: \" + m.group())\n",
    "    \n",
    "#The lazy way works as expected - note the additional question mark in the expression\n",
    "for m in re.finditer(r\"<begin>.*?<end>\", text):\n",
    "    print(\"Lazy match: \" + m.group())"
   ]
  },
  {
   "cell_type": "markdown",
   "metadata": {},
   "source": [
    "---\n",
    "<div class=\"task_description\">\n",
    "    <i class=\"task\">Task 2.2:</i> \n",
    "    \n",
    "Welche Wörter werden mit den folgenden regulären Ausdrücken gefunden? Geben Sie Beispiele.\n",
    "</div>"
   ]
  },
  {
   "cell_type": "markdown",
   "metadata": {},
   "source": [
    "*Which words are found with the following regular expressions? Give examples.*"
   ]
  },
  {
   "cell_type": "markdown",
   "metadata": {},
   "source": [
    "* ```l[a-z]+en```\n",
    "* ```([01]?\\d|2[0-3]):([0-5]\\d)```\n",
    "* ```^[a-zA-Z0-9_\\.+-]+@[a-zA-Z0-9_\\.~-]+\\.[a-zA-Z]{2,}$```"
   ]
  },
  {
   "cell_type": "code",
   "execution_count": 8,
   "metadata": {},
   "outputs": [
    {
     "name": "stdout",
     "output_type": "stream",
     "text": [
      "String: laufen\n",
      "Expression 1: l[a-z]+en\n",
      "Expression 2: ([01]?\\d|2[0-3]):([0-5]\\d)\n",
      "Expression 3: ^[a-zA-Z0-9_\\.+-]+@[a-zA-Z0-9_\\.~-]+\\.[a-zA-Z]{2,}$\n",
      "Does expression 1 match the string? True\n",
      "Does expression 2 match the string? False\n",
      "Does expression 3 match the string? False\n"
     ]
    }
   ],
   "source": [
    "import re\n",
    "#regular expressions\n",
    "expression1 = str(\"l[a-z]+en\")\n",
    "expression2 = str(\"([01]?\\d|2[0-3]):([0-5]\\d)\")\n",
    "expression3 = str(\"^[a-zA-Z0-9_\\.+-]+@[a-zA-Z0-9_\\.~-]+\\.[a-zA-Z]{2,}$\")\n",
    "#test string\n",
    "test = \"laufen\"\n",
    "\n",
    "print(\"String: \" + test)\n",
    "print(\"Expression 1: \" + expression1)\n",
    "print(\"Expression 2: \" + expression2)\n",
    "print(\"Expression 3: \" + expression3)\n",
    "\n",
    "matchFull1=matchFull2=matchFull3=False\n",
    "\n",
    "# testMatch1=re.match(expression1, test)\n",
    "# testMatch2=re.match(expression2, test)\n",
    "# testMatch3=re.match(expression3, test)\n",
    "\n",
    "testMatch1=re.search(expression1, test)\n",
    "testMatch2=re.search(expression2, test)\n",
    "testMatch3=re.search(expression3, test)\n",
    "\n",
    "if testMatch1: matchFull1=True\n",
    "print(\"Does expression 1 match the string? \" + str(matchFull1))\n",
    "if testMatch2: matchFull2=True\n",
    "print(\"Does expression 2 match the string? \" + str(matchFull2))\n",
    "if testMatch3: matchFull3=True\n",
    "print(\"Does expression 3 match the string? \" + str(matchFull3))"
   ]
  },
  {
   "cell_type": "markdown",
   "metadata": {},
   "source": [
    "---\n",
    "<div class=\"task_description\">\n",
    "    <i class=\"task\">Task 2.3:</i> \n",
    "    \n",
    "Sehen Sie sich nun die Klasse SimpleEliza an. Führen Sie das Programm aus und testen Sie, welche Dialoge möglich sind. Welche Schwächen hat das Programm? Wie können Sie es verbessern?\n",
    "</div>"
   ]
  },
  {
   "cell_type": "markdown",
   "metadata": {},
   "source": [
    "*Now look at the class SimpleEliza. Run the program and test which dialogs are possible. What are the weaknesses of the program? How can you improve it?*"
   ]
  },
  {
   "cell_type": "code",
   "execution_count": 6,
   "metadata": {},
   "outputs": [],
   "source": [
    "import random\n",
    "import re\n",
    "\n",
    "\n",
    "class SimpleEliza:\n",
    "\n",
    "    # helper method to find the index of an element\n",
    "    def findIndex(self, element, ownList):\n",
    "        for i in range(len(ownList)):\n",
    "            if ownList[i] == element:\n",
    "                return i\n",
    "        return 0;\n",
    "\n",
    "    # method for finding the the opposite feeling by both list having the same order\n",
    "    def getOpposite(self, element, ownList, oppositeList):\n",
    "        return oppositeList[self.findIndex(element, ownList)]\n",
    "\n",
    "    # method that checks for feelings and family members\n",
    "    # was origanly in the run method, but this way it works better with the and concunction\n",
    "    def checkForMatches(self, s):\n",
    "        feelings = [\"ängstlich\", \"bedrückt\", \"einsam\", \"erfreut\", \"gestresst\", \"glücklich\", \"traurig\", \"unzufrieden\"]\n",
    "        feelingsPositiv = [\"erfreut\", \"entschlossen\", \"unbeschwert\", \"geborgen\", \"entspannt\", \"glücklich\", \"zufrieden\"]\n",
    "        feelingsNegativ = [\"verärgert\", \"ängstlich\", \"bedrückt\", \"einsam\", \"gestresst\", \"traurig\", \"unzufrieden\"]\n",
    "        familyMembersM = [\"Vater\", \"Bruder\", \"Onkel\", \"Großvater\", \"Sohn\", \"Opa\", \"Papa\"]\n",
    "        familyMembersF = [\"Mutter\", \"Schwester\", \"Tante\", \"Großmutter\", \"Tochter\", \"Oma\", \"Mama\"]\n",
    "        negationen = [\"nicht\"]\n",
    "        dummy_sentences = [\n",
    "            \"Erzählen Sie mir mehr davon.\",\n",
    "            \"Interessant.\",\n",
    "            \"Können Sie das noch etwas genauer erklären?\",\n",
    "            \"Was denken Sie darüber?\"\n",
    "        ]\n",
    "\n",
    "        answer= \"\"\n",
    "        # Check for positiv feelings\n",
    "        for feeling in feelingsPositiv:\n",
    "            if feeling in s:\n",
    "                # Checkingfor negation\n",
    "                negationBool = False\n",
    "                for negation in negationen:\n",
    "                    if negation in s:\n",
    "                        # found feeling and negation -> generate answer\n",
    "                        answer += \"Also fühlen sie sich \" + self.getOpposite(feeling, feelingsPositiv,\n",
    "                                                                                feelingsNegativ) + \"?\"\n",
    "                        answer += \"\\nDas ist schade zu hören. Warum fühlen sie sich so?\"\n",
    "                        negationBool = True\n",
    "                        break\n",
    "\n",
    "                if not negationBool:\n",
    "                    # Found feeling -> generate answer\n",
    "                    answer += \"Sie fühlen sich \" + feeling + \"? Das ist schön zu hören! \\n\"\n",
    "                    answer += \"Erzählen sie mir gerne mehr darüber.\"\n",
    "                    # stop processing user input\n",
    "                    break\n",
    "\n",
    "            # Check for negativ feelings\n",
    "        for feeling in feelingsNegativ:\n",
    "            if feeling in s:\n",
    "                # Checkingfor negation\n",
    "                negationBool = False\n",
    "                for negation in negationen:\n",
    "                    if negation in s:\n",
    "                        # found feeling and negation -> generate answer\n",
    "                        answer += \"Sie fühlen sich also \" + self.getOpposite(feeling, feelingsNegativ,\n",
    "                                                                                feelingsPositiv) + \"?\"\n",
    "                        answer += \"\\nDas ist schön zu hören! Erzählen sie mir gerne mehr darüber.\"\n",
    "                        negationBool = True\n",
    "                        break\n",
    "                if not negationBool:\n",
    "                    # Found feeling -> generate answer\n",
    "                    answer += \"Also fühlen sie sich \" + feeling + \"?\"\n",
    "                    answer += \"\\nDas tut mir leid zu hören. Warum fühlen sie sich so?\"\n",
    "                    # stop processing user input\n",
    "                    break\n",
    "\n",
    "        # Check for male familymebers\n",
    "        for member in familyMembersM:\n",
    "            if member in s:\n",
    "                # Found familyMember -> generate answer\n",
    "                answer += \"Wie geht es ihrem \" + member + \"?\"\n",
    "                # stop processing user input\n",
    "                break\n",
    "\n",
    "        # Check for female familymebers\n",
    "        for member in familyMembersF:\n",
    "            if member in s:\n",
    "                # Found familyMember -> generate answer\n",
    "                answer += \"Wie geht es ihrer \" + member + \"?\"\n",
    "                # stop processing user input\n",
    "                break\n",
    "\n",
    "        # If no feeling has been detected, generate a dummy answer.\n",
    "        if len(answer) == 0:\n",
    "            # output random sentence\n",
    "            answer = random.choice(dummy_sentences)\n",
    "\n",
    "        print(answer)\n",
    "\n",
    "    # Eliza's 'intelligence'\n",
    "    def run(self):\n",
    "        welcome = \"Hallo. Worüber möchten Sie mit mir reden?\"\n",
    "        goodbye = \"Auf Wiedersehen\"\n",
    "        conjunctions = [\"und\", \"oder\"]\n",
    "        conjunctionsOr = [\"Die Frage ist mir zu kompliziert\", \"Lassen sie uns bitte nur über eine Sache gleichzeitig reden\"]\n",
    "\n",
    "        # Greet the user\n",
    "        print(welcome)\n",
    "\n",
    "        # Process user input. Processing continues until the user says goodbye.\n",
    "        s = \"\"\n",
    "        while s != goodbye:\n",
    "            # Read user input\n",
    "            s = input()\n",
    "\n",
    "            answer = \"\"\n",
    "            conjugationPresent = False\n",
    "            if s == goodbye:\n",
    "                print(goodbye)\n",
    "                break\n",
    "            # check for conjunctions\n",
    "            for conjunction in conjunctions:\n",
    "                if conjunction in s and conjunction == \"und\":\n",
    "                    conjugationPresent = True\n",
    "                    #in case of and answer to both part sentences\n",
    "                    for part in re.finditer(r\"(.*?) und (.*)?\",s):\n",
    "\n",
    "                        self.checkForMatches(part.group(0)[0:len(part.group(0))-len(part.group(2))-3])\n",
    "                        print(\"und \", end=\"\")\n",
    "                        self.checkForMatches(part.group(2))\n",
    "                if conjunction in s and conjunction == \"oder\":\n",
    "                    # in case of or tell that this qustion is to hard\n",
    "                    conjugationPresent = True\n",
    "                    print(random.choice(conjunctionsOr))\n",
    "                    \n",
    "            #case without conjunction\n",
    "            if not conjugationPresent:\n",
    "                self.checkForMatches(s)"
   ]
  },
  {
   "cell_type": "code",
   "execution_count": null,
   "metadata": {},
   "outputs": [
    {
     "name": "stdout",
     "output_type": "stream",
     "text": [
      "Hallo. Worüber möchten Sie mit mir reden?\n",
      "ich bin glücklich und mein Opa ist da\n",
      "Sie fühlen sich glücklich? Das ist schön zu hören! \n",
      "Erzählen sie mir gerne mehr darüber.\n",
      "und Wie geht es ihrem Opa?\n",
      "ich oder du?\n",
      "Lassen sie uns bitte nur über eine Sache gleichzeitig reden\n",
      "ich bin nicht einsam denn mein Opa ist da\n",
      "Sie fühlen sich also geborgen?\n",
      "Das ist schön zu hören! Erzählen sie mir gerne mehr darüber.Wie geht es ihrem Opa?\n",
      "ich bin nicht einsam und mein Opa ist da\n",
      "Sie fühlen sich also geborgen?\n",
      "Das ist schön zu hören! Erzählen sie mir gerne mehr darüber.\n",
      "und Wie geht es ihrem Opa?\n",
      "Auf wiedersehen\n",
      "Was denken Sie darüber?\n"
     ]
    }
   ],
   "source": [
    "my_eliza = SimpleEliza()\n",
    "my_eliza.run()"
   ]
  },
  {
   "cell_type": "markdown",
   "metadata": {},
   "source": [
    "Gruppenmitglieder\n",
    "\n",
    "Sascha Ludwig 3051003\n",
    "\n",
    "Felix Hahn 3050739\n",
    "\n",
    "Rouchda Pepouna 3091241"
   ]
  },
  {
   "cell_type": "markdown",
   "metadata": {},
   "source": [
    "Problem 1 - Struktureller Rassismus durch Belastete Trainingsdaten\n",
    "Ein AI Algorithmus wird für die Vorhersage von Gerichtsurteilen verwendet. Als Eingangsdaten dienen Informationen, die dem Richter oder Vergleichbarem vorliegen für das Training werden vorherige Gerichtsurteile und deren Randbedingungen verwendet. \n",
    "\n",
    "Es kann so dazu kommen, dass rassistische Tendenzen und Vorurteile gegen Bevölkerungsgruppen, welche aktiv oder passiv in einer Gesellschaft Vorliegen einer KI antrainiert werden. Dies würde bestehenden strukturellen Rassismus in einer Gesellschaft festigen.\n",
    "\n",
    "Eine Lösung hierfür kann das Weglassen von Eingangsdaten, wie z.B. Hautfarbe, Glaubensrichtung oder Foto sein. Ein weiterer Lösungsansatz ist das Voruntersuchen der Trainingsdaten sein, um \"ungerechte\" Urteile herauszufiltern, sodass das System nicht mit ihnen trainiert wird. Hierbei ist zu beachten, dass auch die Person, die für das Herausfiltern zuständig ist nicht frei von Vorurteilen ist. Notfalls sollte von einer solchen Verwendung von KI abgesehen werden.\n",
    "\n",
    "\n",
    "\n",
    "Problem 2 - Verbrechensvorhersage\n",
    "Ein Algorithmus der Verbrechen vorhersagt, bevor sie geschehen. Dies ist mit dem derzeitigen Rechtssystem nicht vereinbar, da ein Mensch nur für Taten verurteilt werden kann (und sollte), welche er in der Vergangenheit begangen hat und nicht für Taten, welche er höchstwahrscheinlich in der Zukunft begehen wird. Hierbei wird jedoch die Frage aufgeworfen, wie vorgegangen werden sollte, wenn ein solcher Algorithmus einen Mord vorhersagt. Die Kernfrage ist, was schwerer wiegt, die Freiheit des vermeintlichen Täters oder das Leben des möglichen Opfers.\n",
    "\n",
    "Eine mögliche Lösung ist das Beschränken des Algorithmus auf die Vorhersage von Tötungsdelikten oder anderen schweren Verbrechen, jedoch andere Straftaten, wie z.B. Betrug oder Ordnungswidrigkeiten nicht vorherzusagen."
   ]
  },
  {
   "cell_type": "markdown",
   "metadata": {},
   "source": [
    "1.3\n",
    "Unsere eigene Funktion ist Positive und Negative Emotionen zu unterscheiden und über negation auf das Gegenteilige Gefühl zu schließen und so ein Größeres verständnis zu vermitteln. Außerdem reagiert unsere eliza freudig auf positive undbetroffen auf negative gefühle was das ganze noch unterstützt."
   ]
  },
  {
   "cell_type": "markdown",
   "metadata": {},
   "source": [
    "## Hausübung"
   ]
  },
  {
   "cell_type": "markdown",
   "metadata": {},
   "source": [
    "### Abgaberichtlinien\n",
    "* Jede Hausübung bringt maximal 10 Hausaufgabenpunkte. 10 Hausaufgabenpunkte entsprechen einem Klausurpunkt.\n",
    "* Im Laufe des Semesters kann es zusätzliche Bonuspunkte (= 1 Klausurpunkt) für Hausübungen geben, in Form von z.B. Challenges, weitere Informationen folgen bei den betreffenden Hausübungen.\n",
    "* Die Abgabe erfolgt in Zweier- oder Dreierteams. **Einzelabgaben werden nicht gewertet**. Die Teammitglieder müssen nicht in derselben Übungsgruppe sein. Bei Problemen bzw. Einzelfällen hinsichtlich dieser Richtlinie kontaktieren Sie einen Tutor.\n",
    "* In der Abgabe müssen alle Teammitglieder mit **Namen und Matrikelnummern gut sichtbar** genannt werden.\n",
    "* Es muss immer nur **ein Teammitglied der Gruppe abgeben**. Sollten aus Versehen mehrere Abgaben der selben Übung erfolgen, kommunizieren Sie dies **zeitnah** an einen Tutor, ansonsten wird die erste korrigierte Abgabe gewertet.\n",
    "* Die Abgabe soll als Jupyter-Notebook erfolgen (.ipynb). Abgaben in einem **anderen Format werden nicht gewertet**. Bei Problemen hinsichtlich dieser Richtlinie kontaktieren Sie einen Tutor.\n",
    "* Es ist nicht nötig, den Präsenzübungsteil in der Abgabe mit abzugeben. Es wird lediglich der Hausübungsteil gewertet.\n",
    "* Wenn Bilder mit abgegeben werden, ist es erlaubt, diese zusammen mit dem Notebook als zip-Ordner abzugeben. Diese sollten folgendermaßen eingefügt werden: ``![Beispiel1](Beispielbild1.PNG)`` (ohne Apostrophe in einer Markdown-Cell)."
   ]
  },
  {
   "cell_type": "markdown",
   "metadata": {},
   "source": [
    "### *Submission guidelines*\n",
    "* *You can reach up to 10 homework points for every homework submission. 10 homework points correspond to one exam point.*\n",
    "* *In the course of the semester, there will be extra bonus points (where each bonus point equals to one exam point) for the homeworks. These will be given in the form of e.g. challenges inside the homeworks. More information will be given in the corresponding homeworks.*\n",
    "* *The submission has to be done by a team of two to three people. **Individual submissions will not be graded**. The team members do not have to attend the same exercise group. If there are any problems regarding this guideline, please reach out to a tutor.*\n",
    "* *Please state the **name and matriculation number of all team members** in every submission **clearly**.*\n",
    "* *Only **one team member should submit** the homework. If more than one version of the same homework is submitted by accident (submitted by more than one group member), please reach out to a tutor **as soon as possible**. Otherwise, the first submitted homework will be graded.*\n",
    "* *The submission must be in a Jupyter Notebook format (.ipynb). Submissions in **other formats will not be graded**. If there are any problems regarding this guideline, please reach out to a tutor.*\n",
    "* *It is not necessary to also submit the part of the exercise discussed by the tutor, please only submit the homework part.*\n",
    "* *If pictures need to be submitted, it is allowed to hand them in in a zip folder, together with the notebook. They should be added to the notebook like this: ``![example1](examplepicture1.PNG)`` (without apostrophs in a Markdown-Cell).*"
   ]
  },
  {
   "cell_type": "markdown",
   "metadata": {},
   "source": [
    "<div class=\"task_description\">\n",
    "    <i class=\"task\">Homework 1.1</i> - <i class=\"points\">4 Punkte</i> <br><br>\n",
    "\n",
    "\n",
    "In der Pflichtlektüre Russel & Norvig, Kapitel 26.3, werden verschiedene ethische Probleme diskutiert, die durch die Weiterentwicklung von künstlicher Intelligenz auftreten können. Seit einigen Jahren basiert fast alle neu entwickelte Software in der KI auf maschinellen Lernverfahren, die auf Big Data trainiert werden. Nennen Sie zwei weitere ethische Probleme, die dadurch entstehen könnten. Begründen Sie Ihre Antwort und nennen Sie mögliche Lösungen.\n",
    "</div>"
   ]
  },
  {
   "cell_type": "markdown",
   "metadata": {},
   "source": [
    "*The mandatory reading, chapter 26.3, various ethical issues are discussed which may arise from the advancement of artificial intelligence. For some years, all newly developed software programs in AI have been based on machine learning techniques that are trained on big data. Name two other ethical issues that may arise thereby. Justify your answer and name possible solutions.*"
   ]
  },
  {
   "cell_type": "markdown",
   "metadata": {},
   "source": [
    "<div class=\"task_description\">\n",
    "    <i class=\"task\">Homework 1.2</i> - <i class=\"points\">5 Punkte</i> <br>\n",
    "    \n",
    "Erweitern Sie den Beispielcode einer simplen Eliza Implementierung, um die unten beschriebenen Fähigkeiten zu ermöglichen. Verwenden Sie dabei reguläre Ausdrücke (regular expressions). Kommentieren Sie ihren Code!\n",
    "\n",
    "* Eliza sollte in der Lage sein, auf die Nennung von Familienmitgliedern (\"Vater\", \"Schwester\", etc) zu reagieren.\n",
    "* Eliza sollte Negationen in den Aussagen erkennen können.\n",
    "* Eliza sollte die Konjunktionen \"und\" und \"oder\" unterscheiden und unterschiedlich reagieren können.\n",
    "* Eine Fähigkeit Ihrer Wahl.\n",
    "</div>"
   ]
  },
  {
   "cell_type": "markdown",
   "metadata": {},
   "source": [
    "*Extend the sample code of a simple Eliza implementation to enable the capabilities described below. Use regular expressions. Comment your code!*\n",
    "\n",
    "* *Eliza should be able to respond to family members (\"father\", \"sister\", etc).*\n",
    "* *Eliza should be able to recognize negations in the statements.*\n",
    "* *Eliza should be able to distinguish the conjunctions \"and\" and \"or\" and react differently.*\n",
    "* *An ability of your choice.*\n"
   ]
  },
  {
   "cell_type": "markdown",
   "metadata": {},
   "source": [
    "<div class=\"task_description\">\n",
    "    <i class=\"task\">Homework 1.3</i> - <i class=\"points\">1 Punkt</i> <br>\n",
    "\n",
    "Beschreiben Sie, inwiefern Ihre Version von SimpleEliza die Basisversion verbessert.\n",
    "</div>"
   ]
  },
  {
   "cell_type": "markdown",
   "metadata": {},
   "source": [
    "*Describe how your version of SimpleEliza improves the basic version.*"
   ]
  }
 ],
 "metadata": {
  "kernelspec": {
   "display_name": "Python 3",
   "language": "python",
   "name": "python3"
  },
  "language_info": {
   "codemirror_mode": {
    "name": "ipython",
    "version": 3
   },
   "file_extension": ".py",
   "mimetype": "text/x-python",
   "name": "python",
   "nbconvert_exporter": "python",
   "pygments_lexer": "ipython3",
   "version": "3.7.1"
  },
  "varInspector": {
   "cols": {
    "lenName": 16,
    "lenType": 16,
    "lenVar": 40
   },
   "kernels_config": {
    "python": {
     "delete_cmd_postfix": "",
     "delete_cmd_prefix": "del ",
     "library": "var_list.py",
     "varRefreshCmd": "print(var_dic_list())"
    },
    "r": {
     "delete_cmd_postfix": ") ",
     "delete_cmd_prefix": "rm(",
     "library": "var_list.r",
     "varRefreshCmd": "cat(var_dic_list()) "
    }
   },
   "types_to_exclude": [
    "module",
    "function",
    "builtin_function_or_method",
    "instance",
    "_Feature"
   ],
   "window_display": false
  }
 },
 "nbformat": 4,
 "nbformat_minor": 2
}
